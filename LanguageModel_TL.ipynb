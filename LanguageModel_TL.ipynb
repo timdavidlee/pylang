{
 "cells": [
  {
   "cell_type": "code",
   "execution_count": 84,
   "metadata": {},
   "outputs": [],
   "source": [
    "%reload_ext autoreload\n",
    "%autoreload 2\n",
    "%matplotlib inline\n",
    "\n",
    "# imports\n",
    "import pandas as pd\n",
    "import numpy as np\n",
    "import torch\n",
    "from pathlib import Path\n",
    "from torch.utils.data import Dataset, DataLoader\n",
    "from torch.autograd import Variable\n",
    "import torch.optim as optim\n",
    "import torch.nn as nn\n",
    "import torch.nn.functional as F\n",
    "from torchvision import models\n",
    "\n",
    "import _pickle as pickle\n",
    "import random\n",
    "import os\n",
    "import time\n",
    "import math\n",
    "import matplotlib.pyplot as plt "
   ]
  },
  {
   "cell_type": "markdown",
   "metadata": {},
   "source": [
    "## Download and Unzip the Data"
   ]
  },
  {
   "cell_type": "code",
   "execution_count": 7,
   "metadata": {
    "scrolled": true
   },
   "outputs": [
    {
     "name": "stdout",
     "output_type": "stream",
     "text": [
      "--2018-05-16 22:53:46--  https://s3.amazonaws.com/research.metamind.io/wikitext/wikitext-2-v1.zip\n",
      "Resolving s3.amazonaws.com (s3.amazonaws.com)... 52.216.100.181\n",
      "Connecting to s3.amazonaws.com (s3.amazonaws.com)|52.216.100.181|:443... connected.\n",
      "HTTP request sent, awaiting response... 200 OK\n",
      "Length: 4475746 (4.3M) [application/zip]\n",
      "Saving to: ‘/home/paperspace/data/wikitext/wikitext-2-v1.zip’\n",
      "\n",
      "wikitext-2-v1.zip   100%[===================>]   4.27M  2.19MB/s    in 1.9s    \n",
      "\n",
      "2018-05-16 22:53:48 (2.19 MB/s) - ‘/home/paperspace/data/wikitext/wikitext-2-v1.zip’ saved [4475746/4475746]\n",
      "\n"
     ]
    }
   ],
   "source": [
    "!wget https://s3.amazonaws.com/research.metamind.io/wikitext/wikitext-2-v1.zip -P ~/data/wikitext/"
   ]
  },
  {
   "cell_type": "code",
   "execution_count": 11,
   "metadata": {
    "scrolled": true
   },
   "outputs": [
    {
     "name": "stdout",
     "output_type": "stream",
     "text": [
      "Archive:  /home/paperspace/data/wikitext/wikitext-2-v1.zip\n",
      "   creating: /home/paperspace/data/wikitext/wikitext-2/\n",
      "  inflating: /home/paperspace/data/wikitext/wikitext-2/wiki.test.tokens  \n",
      "  inflating: /home/paperspace/data/wikitext/wikitext-2/wiki.valid.tokens  \n",
      "  inflating: /home/paperspace/data/wikitext/wikitext-2/wiki.train.tokens  \n"
     ]
    }
   ],
   "source": [
    "!unzip /home/paperspace/data/wikitext/wikitext-2-v1.zip -d /home/paperspace/data/wikitext/"
   ]
  },
  {
   "cell_type": "markdown",
   "metadata": {},
   "source": [
    "## Take a peek at the files"
   ]
  },
  {
   "cell_type": "code",
   "execution_count": 16,
   "metadata": {
    "scrolled": false
   },
   "outputs": [
    {
     "name": "stdout",
     "output_type": "stream",
     "text": [
      " \r\n",
      " = Homarus gammarus = \r\n",
      " \r\n",
      " Homarus gammarus , known as the European lobster or common lobster , is a species of <unk> lobster from the eastern Atlantic Ocean , Mediterranean Sea and parts of the Black Sea . It is closely related to the American lobster , H. americanus . It may grow to a length of 60 cm ( 24 in ) and a mass of 6 kilograms ( 13 lb ) , and bears a conspicuous pair of claws . In life , the lobsters are blue , only becoming \" lobster red \" on cooking . Mating occurs in the summer , producing eggs which are carried by the females for up to a year before hatching into <unk> larvae . Homarus gammarus is a highly esteemed food , and is widely caught using lobster pots , mostly around the British Isles . \r\n",
      " \r\n",
      " = = Description = = \r\n",
      " \r\n",
      " Homarus gammarus is a large <unk> , with a body length up to 60 centimetres ( 24 in ) and weighing up to 5 – 6 kilograms ( 11 – 13 lb ) , although the lobsters caught in lobster pots are usually 23 – 38 cm ( 9 – 15 in ) long and weigh 0 @.@ 7 – 2 @.@ 2 kg ( 1 @.@ 5 – 4 @.@ 9 lb ) . Like other crustaceans , lobsters have a hard <unk> which they must shed in order to grow , in a process called <unk> ( <unk> ) . This may occur several times a year for young lobsters , but decreases to once every 1 – 2 years for larger animals . \r\n",
      " The first pair of <unk> is armed with a large , asymmetrical pair of claws . The larger one is the \" <unk> \" , and has rounded <unk> used for crushing prey ; the other is the \" cutter \" , which has sharp inner edges , and is used for holding or tearing the prey . Usually , the left claw is the <unk> , and the right is the cutter . \r\n",
      " The <unk> is generally blue above , with spots that <unk> , and yellow below . The red colour associated with lobsters only appears after cooking . This occurs because , in life , the red pigment <unk> is bound to a protein complex , but the complex is broken up by the heat of cooking , releasing the red pigment . \r\n",
      "cat: write error: Broken pipe\r\n"
     ]
    }
   ],
   "source": [
    "! cat /home/paperspace/data/wikitext/wikitext-2/wiki.valid.tokens | head -10"
   ]
  },
  {
   "cell_type": "code",
   "execution_count": 13,
   "metadata": {},
   "outputs": [
    {
     "data": {
      "text/plain": [
       "[PosixPath('/home/paperspace/data/wikitext/wikitext-2/wiki.train.tokens'),\n",
       " PosixPath('/home/paperspace/data/wikitext/wikitext-2/wiki.valid.tokens'),\n",
       " PosixPath('/home/paperspace/data/wikitext/wikitext-2/wiki.test.tokens')]"
      ]
     },
     "execution_count": 13,
     "metadata": {},
     "output_type": "execute_result"
    }
   ],
   "source": [
    "PATH=Path(\"/home/paperspace/data/wikitext/wikitext-2\")\n",
    "list(PATH.iterdir())"
   ]
  },
  {
   "cell_type": "markdown",
   "metadata": {},
   "source": [
    "## Set up some helper objects"
   ]
  },
  {
   "cell_type": "code",
   "execution_count": 88,
   "metadata": {},
   "outputs": [],
   "source": [
    "# ========================================================================\n",
    "# Helper Objects\n",
    "# ========================================================================\n",
    "\n",
    "class Dictionary(object):\n",
    "    def __init__(self):\n",
    "        \"\"\" Initializes both conversions of the dictionary \"\"\"\n",
    "        self.word2idx = {\"UNK\": 0}\n",
    "        self.idx2word = [\"UNK\"]\n",
    "\n",
    "    def add_word(self, word):\n",
    "        \"\"\" Adds a new word to the dictionary. gives it an auto incremented ID\"\"\"\n",
    "        if word not in self.word2idx:\n",
    "            self.idx2word.append(word)\n",
    "            self.word2idx[word] = len(self.idx2word) - 1\n",
    "        return self.word2idx[word]\n",
    "\n",
    "    def __len__(self):\n",
    "        \"\"\" Returns the number of tokens in the word\"\"\"\n",
    "        return len(self.idx2word)\n",
    "    \n",
    "    def to_pkl(self, filepath):\n",
    "        with open(filepath, 'wb') as f:\n",
    "            pickle.dump([self.word2idx, self.idx2word],f)\n",
    "        \n",
    "\n",
    "\n",
    "class Corpus(object):\n",
    "    def __init__(self, path, ):\n",
    "        self.dictionary = Dictionary()\n",
    "        self.train = self.tokenize(os.path.join(path, 'wiki.train.tokens'), add=True)\n",
    "        self.valid = self.tokenize(os.path.join(path, 'wiki.valid.tokens'))\n",
    "        self.test = self.tokenize(os.path.join(path, 'wiki.test.tokens'))\n",
    "        \n",
    "    def count_words(self, path, add=False):\n",
    "        assert os.path.exists(path)\n",
    "        # Add words to the dictionary\n",
    "        with open(path, 'r') as f:\n",
    "            tokens = 0\n",
    "            for line in f:\n",
    "                words = line.split() + ['<eos>']\n",
    "                tokens += len(words)\n",
    "                if add:\n",
    "                    for word in words:\n",
    "                        self.dictionary.add_word(word)\n",
    "        return tokens\n",
    "\n",
    "    def tokenize(self, path, add=False):\n",
    "        \"\"\"Tokenizes a text file.\"\"\"\n",
    "        tokens = self.count_words(path, add)\n",
    "        # Tokenize file content\n",
    "        with open(path, 'r') as f:\n",
    "            ids = torch.LongTensor(tokens)\n",
    "            token = 0\n",
    "            for line in f:\n",
    "                words = line.split() + ['<eos>']\n",
    "                for word in words:\n",
    "                    ids[token] = self.dictionary.word2idx.get(word, 0)\n",
    "                    token += 1\n",
    "        return ids\n",
    "\n",
    "# ========================================================================\n",
    "# Helper functions\n",
    "# ========================================================================\n",
    "\n",
    "def batchify(data, bsz):\n",
    "    \"\"\"\n",
    "    Takes any dataset and returns a sub-batched version\n",
    "    [1,2,3,4,5,6,7,8,9,10], batchsize = 3 will give\n",
    "    (1,2,3) (4,5,6) (7,8,9)\n",
    "    \"\"\"\n",
    "    # Work out how cleanly we can divide the dataset into bsz parts.\n",
    "    nbatch = data.size(0) // bsz\n",
    "    \n",
    "    # Trim off any extra elements that wouldn't cleanly fit (remainders).\n",
    "    data = data.narrow(0, 0, nbatch * bsz)\n",
    "    \n",
    "    # Evenly divide the data across the bsz batches.\n",
    "    data = data.view(bsz, -1).t().contiguous()\n",
    "    return data.cuda()\n",
    "\n",
    "def get_batch(source, i, bptt, evaluation=False):\n",
    "    \"\"\"\n",
    "    Source: data array\n",
    "    i: index\n",
    "    bptt: back prop through time\n",
    "    \"\"\"\n",
    "    seq_len = min(bptt, len(source) - 1 - i)\n",
    "    data = Variable(source[i:i+seq_len], volatile=evaluation)\n",
    "    target = Variable(source[i+1:i+1+seq_len].view(-1))\n",
    "    return data, target\n",
    "\n",
    "def save_model(m, p): torch.save(m.state_dict(), p)\n",
    "\n",
    "def load_model(m, p): m.load_state_dict(torch.load(p))\n",
    "\n",
    "def LR_range_finder(model, train_data, criterion, lr_low=1e-3, lr_high=10, epochs=2):\n",
    "    losses = []\n",
    "    (train_data.size(0) - 1)//bptt + 1\n",
    "    iterations = epochs * ((train_data.size(0) - 1)//bptt + 1)\n",
    "    delta = (lr_high - lr_low)/(iterations-1)\n",
    "    losses = []\n",
    "    lrs = [lr_low + i*delta for i in range(iterations)]\n",
    "    model.train()\n",
    "    ind = 0\n",
    "    total_loss = 0\n",
    "    ntokens = len(corpus.dictionary)\n",
    "    for i in range(epochs):\n",
    "        hidden = model.init_hidden(batch_size)\n",
    "        for batch, i in enumerate(range(0, train_data.size(0) - 1, bptt)):\n",
    "            lr = lrs[ind]\n",
    "            data, targets = get_batch(train_data, i, bptt)\n",
    "        \n",
    "            hidden = Variable(hidden.data) #.detach()\n",
    "            model.zero_grad()\n",
    "            output, hidden = model(data, hidden)\n",
    "            loss = criterion(output.view(-1, ntokens), targets)\n",
    "            loss.backward()\n",
    "\n",
    "            # `clip_grad_norm` helps prevent the exploding gradient problem in RNNs / LSTMs.\n",
    "            torch.nn.utils.clip_grad_norm(model.parameters(), clip)\n",
    "            for p in model.parameters():\n",
    "                p.data.add_(-lr, p.grad.data)\n",
    "\n",
    "            losses.append(loss.data[0])\n",
    "            ind += 1\n",
    "    return lrs, losses \n",
    "\n",
    "def get_triangular_lr2(lr_low, lr_high, iterations):\n",
    "    iter1 = int(0.35*iterations)\n",
    "    iter2 = int(0.85*iter1)\n",
    "    iter3 = iterations - iter1 - iter2\n",
    "    delta1 = (lr_high - lr_low)/iter1\n",
    "    delta2 = (lr_high - lr_low)/(iter1 -1)\n",
    "    lrs1 = [lr_low + i*delta1 for i in range(iter1)]\n",
    "    lrs2 = [lr_high - i*(delta1) for i in range(0, iter2)]\n",
    "    delta2 = (lrs2[-1] - lr_low)/(iter3)\n",
    "    lrs3 = [lrs2[-1] - i*(delta2) for i in range(1, iter3+1)]\n",
    "    return lrs1+lrs2+lrs3\n",
    "\n",
    "\n",
    "def evaluate(data_source):\n",
    "    # Turn on evaluation mode which disables dropout.\n",
    "    model.eval()\n",
    "    total_loss = 0.\n",
    "    ntokens = len(corpus.dictionary)\n",
    "    hidden = model.init_hidden(batch_size)\n",
    "    for i in range(0, data_source.size(0) - 1, bptt):\n",
    "        data, targets = get_batch(data_source, i, bptt, evaluation=True)\n",
    "        output, hidden = model(data, hidden)\n",
    "        output_flat = output.view(-1, ntokens)\n",
    "        total_loss += len(data) * criterion(output_flat, targets).data\n",
    "        hidden = Variable(hidden.data) #.detach()\n",
    "    return total_loss[0] / len(data_source)\n",
    "\n",
    "\n",
    "# ========================================================================\n",
    "# Model functions\n",
    "# ========================================================================\n",
    "\n",
    "class RNNModel(nn.Module):\n",
    "    \"\"\"\n",
    "    Container module with an encoder, a recurrent module, and a decoder.\n",
    "    \n",
    "    ntoken: number of tokens\n",
    "    ninp: number of inputs\n",
    "    nhid: number of hidden units\n",
    "    nlayers: number of layers\n",
    "    dropout: % dropout\n",
    "    \"\"\"\n",
    "\n",
    "    def __init__(self, ntoken, ninp, nhid, nlayers, dropout=0.5):\n",
    "        super(RNNModel, self).__init__()\n",
    "        self.drop = nn.Dropout(dropout)\n",
    "        self.encoder = nn.Embedding(ntoken, ninp)\n",
    "        self.rnn = nn.GRU(ninp, nhid, nlayers, dropout=dropout)\n",
    "        self.decoder = nn.Linear(nhid, ntoken)\n",
    "        self.init_weights()\n",
    "        self.nhid = nhid\n",
    "        self.nlayers = nlayers\n",
    "\n",
    "    def init_weights(self):\n",
    "        init_range = 0.1\n",
    "        self.encoder.weight.data.uniform_(-init_range, init_range)\n",
    "        self.decoder.bias.data.fill_(0.0)\n",
    "        self.decoder.weight.data.uniform_(-init_range, init_range)\n",
    "\n",
    "    def forward(self, input, hidden):\n",
    "        \"\"\"\n",
    "        input: current input\n",
    "        hidden: hidden state from the previous step\n",
    "        \"\"\"\n",
    "        # pulls the embeddings for the input submitted\n",
    "        emb = self.drop(self.encoder(input))\n",
    "        \n",
    "        # then applies the RNN against the embedding layer\n",
    "        output, hidden = self.rnn(emb, hidden)\n",
    "        output = self.drop(output)\n",
    "        decoded = self.decoder(output.view(output.size(0)*output.size(1), output.size(2)))\n",
    "        return decoded.view(output.size(0), output.size(1), decoded.size(1)), hidden\n",
    "\n",
    "    def init_hidden(self, bsz):\n",
    "        \"\"\"\n",
    "        Initialize the hidden weights\n",
    "        \"\"\"\n",
    "        weight = next(self.parameters()).data\n",
    "        return Variable(weight.new(self.nlayers, bsz, self.nhid).zero_())\n",
    "    \n",
    "\n",
    "\n",
    "def train_triangular_policy(model, epochs=4, lr_low=1e-4, lr_high=4):\n",
    "    # Turn on training mode which enables dropout.\n",
    "    start_time = time.time()\n",
    "    ntokens = len(corpus.dictionary)\n",
    "    iterations = epochs * ((train_data.size(0) - 1)//bptt + 1)\n",
    "    lrs = get_triangular_lr2(lr_low, lr_high, iterations)\n",
    "    idx = 0\n",
    "    for epoch in range(epochs):\n",
    "        total_loss = 0\n",
    "        model.train()\n",
    "        start_time = time.time()\n",
    "        \n",
    "        # initialize the model\n",
    "        # these are the weights from hidden layers\n",
    "        hidden = model.init_hidden(batch_size)\n",
    "        \n",
    "        for batch, i in enumerate(range(0, train_data.size(0) - 1, bptt)):\n",
    "            lr = lrs[idx]\n",
    "            \n",
    "            # get a single batch of data (iterator)\n",
    "            data, targets = get_batch(train_data, i, bptt)\n",
    "            \n",
    "            # Starting each batch, we detach the hidden state from how it was previously produced.\n",
    "            # If we didn't, the model would try backpropagating all the way to start of the dataset.\n",
    "            hidden = Variable(hidden.data) #.detach()\n",
    "            model.zero_grad()\n",
    "            \n",
    "            # run the data through the model\n",
    "            # this would be a small snippet of the phrase\n",
    "            output, hidden = model(data, hidden)\n",
    "            loss = criterion(output.view(-1, ntokens), targets)\n",
    "            loss.backward()\n",
    "\n",
    "            # `clip_grad_norm` helps prevent the exploding gradient problem in RNNs / LSTMs.\n",
    "            torch.nn.utils.clip_grad_norm(model.parameters(), clip)\n",
    "            for p in model.parameters():\n",
    "                p.data.add_(-lr, p.grad.data)\n",
    "\n",
    "            total_loss += len(data)*loss.data\n",
    "            idx += 1\n",
    "        # results after each epoch\n",
    "        val_loss = evaluate(val_data)\n",
    "        elapsed = time.time() - start_time\n",
    "        train_loss = total_loss[0]/len(train_data)\n",
    "        print('| epoch {:3d} | lr {:02.5f} | t_loss {:5.2f} | t_ppl {:5.2f} | v_loss {:5.2f} | v_ppl {:5.2f}'.format(\n",
    "             epoch, lr, train_loss, math.exp(train_loss), val_loss, math.exp(val_loss)))"
   ]
  },
  {
   "cell_type": "code",
   "execution_count": 89,
   "metadata": {},
   "outputs": [
    {
     "data": {
      "text/plain": [
       "33279"
      ]
     },
     "execution_count": 89,
     "metadata": {},
     "output_type": "execute_result"
    }
   ],
   "source": [
    "corpus = Corpus(PATH)\n",
    "len(corpus.dictionary)"
   ]
  },
  {
   "cell_type": "code",
   "execution_count": 73,
   "metadata": {},
   "outputs": [
    {
     "data": {
      "text/plain": [
       "\n",
       " 2319\n",
       "  137\n",
       "   28\n",
       " 5648\n",
       "    1\n",
       "[torch.LongTensor of size 5]"
      ]
     },
     "execution_count": 73,
     "metadata": {},
     "output_type": "execute_result"
    }
   ],
   "source": [
    "# Sample tokenization using a corpus\n",
    "with open(PATH/'sample.txt','w') as f:\n",
    "    f.write('man met a dog')\n",
    "corpus.tokenize(PATH/'sample.txt')"
   ]
  },
  {
   "cell_type": "code",
   "execution_count": 50,
   "metadata": {},
   "outputs": [],
   "source": [
    "batch_size = 20\n",
    "train_data = batchify(corpus.train, batch_size)\n",
    "val_data = batchify(corpus.valid, batch_size)\n",
    "test_data = batchify(corpus.test, batch_size)"
   ]
  },
  {
   "cell_type": "code",
   "execution_count": 51,
   "metadata": {},
   "outputs": [],
   "source": [
    "nemb = 300\n",
    "nhid = 300\n",
    "bptt = 35\n",
    "clip = 0.25\n",
    "nlayers = 2\n",
    "ntokens = len(corpus.dictionary)\n",
    "criterion = nn.CrossEntropyLoss()\n",
    "model = RNNModel(ntokens, nemb, nhid, nlayers).cuda()\n",
    "lrs, losses = LR_range_finder(model, train_data, criterion)"
   ]
  },
  {
   "cell_type": "code",
   "execution_count": 53,
   "metadata": {},
   "outputs": [
    {
     "data": {
      "image/png": "[encoded data removed]",
      "text/plain": [
       "<Figure size 432x288 with 1 Axes>"
      ]
     },
     "metadata": {},
     "output_type": "display_data"
    }
   ],
   "source": [
    "plt.plot(lrs, losses)\n",
    "plt.show()"
   ]
  },
  {
   "cell_type": "code",
   "execution_count": 54,
   "metadata": {},
   "outputs": [],
   "source": [
    "steps = 10\n",
    "nemb = 300\n",
    "nhid = 300\n",
    "nlayers = 2\n",
    "ntokens = len(corpus.dictionary)\n",
    "model = RNNModel(ntokens, nemb, nhid, nlayers).cuda()"
   ]
  },
  {
   "cell_type": "code",
   "execution_count": 62,
   "metadata": {},
   "outputs": [
    {
     "name": "stdout",
     "output_type": "stream",
     "text": [
      "| epoch   0 | lr 8.28489 | t_loss  5.90 | t_ppl 364.66 | v_loss  5.68 | v_ppl 292.48\n",
      "| epoch   1 | lr 7.42878 | t_loss  5.65 | t_ppl 283.10 | v_loss  5.43 | v_ppl 227.92\n",
      "| epoch   2 | lr 4.63954 | t_loss  5.37 | t_ppl 214.31 | v_loss  5.23 | v_ppl 185.87\n",
      "| epoch   3 | lr 4.00000 | t_loss  5.22 | t_ppl 185.14 | v_loss  5.16 | v_ppl 173.31\n",
      "| epoch   0 | lr 8.28489 | t_loss  5.17 | t_ppl 175.33 | v_loss  5.21 | v_ppl 183.51\n",
      "| epoch   1 | lr 7.42878 | t_loss  5.17 | t_ppl 175.81 | v_loss  5.13 | v_ppl 169.35\n",
      "| epoch   2 | lr 4.63954 | t_loss  5.01 | t_ppl 150.21 | v_loss  5.04 | v_ppl 154.18\n",
      "| epoch   3 | lr 4.00000 | t_loss  4.91 | t_ppl 136.23 | v_loss  5.00 | v_ppl 147.98\n",
      "| epoch   0 | lr 6.28489 | t_loss  4.86 | t_ppl 128.80 | v_loss  5.04 | v_ppl 153.78\n",
      "| epoch   1 | lr 5.42878 | t_loss  4.90 | t_ppl 133.96 | v_loss  5.02 | v_ppl 151.62\n",
      "| epoch   2 | lr 2.63954 | t_loss  4.79 | t_ppl 120.11 | v_loss  4.93 | v_ppl 138.39\n",
      "| epoch   3 | lr 2.00000 | t_loss  4.72 | t_ppl 112.24 | v_loss  4.91 | v_ppl 136.05\n",
      "| epoch   0 | lr 6.28489 | t_loss  4.72 | t_ppl 111.99 | v_loss  4.99 | v_ppl 146.68\n",
      "| epoch   1 | lr 5.42878 | t_loss  4.78 | t_ppl 119.23 | v_loss  4.99 | v_ppl 147.45\n",
      "| epoch   2 | lr 2.63954 | t_loss  4.68 | t_ppl 107.97 | v_loss  4.91 | v_ppl 135.87\n",
      "| epoch   3 | lr 2.00000 | t_loss  4.62 | t_ppl 101.28 | v_loss  4.88 | v_ppl 132.18\n",
      "| epoch   0 | lr 4.57074 | t_loss  4.60 | t_ppl 99.27 | v_loss  4.93 | v_ppl 138.39\n",
      "| epoch   1 | lr 3.85731 | t_loss  4.64 | t_ppl 103.99 | v_loss  4.90 | v_ppl 134.46\n",
      "| epoch   2 | lr 1.53295 | t_loss  4.57 | t_ppl 96.90 | v_loss  4.86 | v_ppl 129.35\n",
      "| epoch   3 | lr 1.00000 | t_loss  4.53 | t_ppl 92.85 | v_loss  4.85 | v_ppl 127.80\n",
      "| epoch   0 | lr 4.57074 | t_loss  4.53 | t_ppl 92.85 | v_loss  4.92 | v_ppl 137.05\n",
      "| epoch   1 | lr 3.85731 | t_loss  4.59 | t_ppl 98.20 | v_loss  4.90 | v_ppl 134.51\n",
      "| epoch   2 | lr 1.53295 | t_loss  4.52 | t_ppl 91.78 | v_loss  4.85 | v_ppl 127.91\n",
      "| epoch   3 | lr 1.00000 | t_loss  4.48 | t_ppl 88.18 | v_loss  4.83 | v_ppl 125.59\n",
      "| epoch   0 | lr 2.99952 | t_loss  4.47 | t_ppl 86.97 | v_loss  4.87 | v_ppl 130.63\n",
      "| epoch   1 | lr 2.50012 | t_loss  4.50 | t_ppl 89.60 | v_loss  4.87 | v_ppl 130.91\n",
      "| epoch   2 | lr 0.87306 | t_loss  4.46 | t_ppl 86.28 | v_loss  4.83 | v_ppl 124.94\n",
      "| epoch   3 | lr 0.50000 | t_loss  4.44 | t_ppl 84.46 | v_loss  4.81 | v_ppl 123.20\n",
      "| epoch   0 | lr 2.99952 | t_loss  4.43 | t_ppl 83.79 | v_loss  4.86 | v_ppl 128.94\n",
      "| epoch   1 | lr 2.50012 | t_loss  4.46 | t_ppl 86.80 | v_loss  4.84 | v_ppl 126.99\n",
      "| epoch   2 | lr 0.87306 | t_loss  4.43 | t_ppl 83.60 | v_loss  4.81 | v_ppl 123.20\n",
      "| epoch   3 | lr 0.50000 | t_loss  4.40 | t_ppl 81.79 | v_loss  4.81 | v_ppl 122.15\n",
      "| epoch   0 | lr 1.45688 | t_loss  4.40 | t_ppl 81.17 | v_loss  4.83 | v_ppl 125.01\n",
      "| epoch   1 | lr 1.18578 | t_loss  4.40 | t_ppl 81.34 | v_loss  4.82 | v_ppl 124.37\n",
      "| epoch   2 | lr 0.30252 | t_loss  4.39 | t_ppl 80.98 | v_loss  4.79 | v_ppl 120.82\n",
      "| epoch   3 | lr 0.10000 | t_loss  4.40 | t_ppl 81.68 | v_loss  4.78 | v_ppl 118.78\n",
      "| epoch   0 | lr 1.45688 | t_loss  4.37 | t_ppl 79.40 | v_loss  4.82 | v_ppl 123.96\n",
      "| epoch   1 | lr 1.18578 | t_loss  4.38 | t_ppl 80.11 | v_loss  4.82 | v_ppl 123.81\n",
      "| epoch   2 | lr 0.30252 | t_loss  4.38 | t_ppl 79.60 | v_loss  4.79 | v_ppl 120.35\n",
      "| epoch   3 | lr 0.10000 | t_loss  4.39 | t_ppl 80.39 | v_loss  4.78 | v_ppl 118.57\n"
     ]
    }
   ],
   "source": [
    "runs = [\n",
    "    [4,10],\n",
    "    [4,10],\n",
    "    [2,8],\n",
    "    [2,8],\n",
    "    [1,6],\n",
    "    [1,6],\n",
    "    [0.5,4],\n",
    "    [0.5,4],\n",
    "    [0.1,2],\n",
    "    [0.1,2]    \n",
    "]\n",
    "for run in runs:\n",
    "    train_triangular_policy(model, epochs=4, lr_low=run[0], lr_high=run[1])"
   ]
  },
  {
   "cell_type": "code",
   "execution_count": 63,
   "metadata": {},
   "outputs": [],
   "source": [
    "p = PATH/\"mode117.pth\"\n",
    "save_model(model, str(p))"
   ]
  },
  {
   "cell_type": "code",
   "execution_count": 65,
   "metadata": {},
   "outputs": [
    {
     "data": {
      "text/plain": [
       "['wiki.train.tokens', 'mode117.pth', 'wiki.valid.tokens', 'wiki.test.tokens']"
      ]
     },
     "execution_count": 65,
     "metadata": {},
     "output_type": "execute_result"
    }
   ],
   "source": [
    "os.listdir(PATH)"
   ]
  },
  {
   "cell_type": "code",
   "execution_count": 90,
   "metadata": {},
   "outputs": [],
   "source": [
    "corpus.dictionary.to_pkl('dict17.pkl')"
   ]
  },
  {
   "cell_type": "code",
   "execution_count": 94,
   "metadata": {},
   "outputs": [],
   "source": [
    "emb = model.encoder"
   ]
  },
  {
   "cell_type": "code",
   "execution_count": 107,
   "metadata": {},
   "outputs": [
    {
     "data": {
      "text/plain": [
       "array([[-5.3439606e-02,  2.0715311e-02,  9.1994025e-02, ...,\n",
       "        -6.1570562e-02,  5.3499438e-02, -4.3861378e-02],\n",
       "       [ 1.0782615e-02,  1.7795961e-01,  9.4854139e-04, ...,\n",
       "         1.5818091e-01, -7.0780493e-02,  7.3512267e-05],\n",
       "       [-4.4077042e-02,  1.1453146e-01,  1.2156373e-02, ...,\n",
       "         1.2476309e-01, -2.0462185e-02, -1.5805538e-01],\n",
       "       ...,\n",
       "       [ 2.7100815e-02,  5.4215021e-02, -1.7806140e-03, ...,\n",
       "         1.0721195e-01, -2.6213776e-04,  6.4145461e-02],\n",
       "       [-3.3080060e-02, -5.3587399e-02, -6.5688647e-02, ...,\n",
       "         7.5484984e-02,  1.7419914e-03,  2.6621601e-02],\n",
       "       [ 6.3480407e-02,  5.1375408e-02, -1.6410444e-02, ...,\n",
       "         5.1401567e-02, -2.6295036e-03,  1.9764256e-04]], dtype=float32)"
      ]
     },
     "execution_count": 107,
     "metadata": {},
     "output_type": "execute_result"
    }
   ],
   "source": []
  },
  {
   "cell_type": "code",
   "execution_count": 108,
   "metadata": {},
   "outputs": [],
   "source": [
    "with open('lm_emb_np_trained.pkl','wb') as f:\n",
    "    pickle.dump(emb.weight.cpu().data.numpy(), f)"
   ]
  },
  {
   "cell_type": "code",
   "execution_count": null,
   "metadata": {},
   "outputs": [],
   "source": []
  }
 ],
 "metadata": {
  "kernelspec": {
   "display_name": "Python 3",
   "language": "python",
   "name": "python3"
  },
  "language_info": {
   "codemirror_mode": {
    "name": "ipython",
    "version": 3
   },
   "file_extension": ".py",
   "mimetype": "text/x-python",
   "name": "python",
   "nbconvert_exporter": "python",
   "pygments_lexer": "ipython3",
   "version": "3.6.5"
  }
 },
 "nbformat": 4,
 "nbformat_minor": 2
}
